{
 "cells": [
  {
   "cell_type": "code",
   "execution_count": 2,
   "id": "c17643a3-08d2-4ad2-86c8-11ecb6523569",
   "metadata": {},
   "outputs": [],
   "source": [
    "'''q1. Declare two variables, `x` and `y`, and assign them integer values. Swap the\n",
    "values of these variables without using any temporary variable.'''\n",
    "a=10\n",
    "b=20\n",
    "a,b=b,a #swapping part"
   ]
  },
  {
   "cell_type": "code",
   "execution_count": 8,
   "id": "b2ddf7aa-dfae-4c62-9fc9-9f53f8a9eab7",
   "metadata": {},
   "outputs": [
    {
     "data": {
      "text/plain": [
       "(10, 20)"
      ]
     },
     "execution_count": 8,
     "metadata": {},
     "output_type": "execute_result"
    }
   ],
   "source": [
    "#after swapping first one is the b variable value and second is a value\n",
    "b,a"
   ]
  },
  {
   "cell_type": "code",
   "execution_count": 9,
   "id": "3da2472f-4c68-44b3-a29c-435973240bcc",
   "metadata": {},
   "outputs": [
    {
     "name": "stdin",
     "output_type": "stream",
     "text": [
      " 4\n"
     ]
    }
   ],
   "source": [
    "'''q2. Create a program that calculates the area of a rectangle. Take the length and\n",
    "width as inputs from the user and store them in variables. Calculate and\n",
    "display the area.'''\n",
    "length=int(input())"
   ]
  },
  {
   "cell_type": "code",
   "execution_count": 11,
   "id": "9d57b75c-c7f1-4110-89ce-0c44d93ae1c0",
   "metadata": {},
   "outputs": [
    {
     "name": "stdin",
     "output_type": "stream",
     "text": [
      " 2\n"
     ]
    }
   ],
   "source": [
    "base=int(input())"
   ]
  },
  {
   "cell_type": "code",
   "execution_count": 12,
   "id": "0550c95d-e066-4cd6-b2f0-205fff8d7a20",
   "metadata": {},
   "outputs": [],
   "source": [
    "Area=1/2*length*base"
   ]
  },
  {
   "cell_type": "code",
   "execution_count": 13,
   "id": "eab92dfd-7a4c-4281-8a23-f2aa61d2041a",
   "metadata": {},
   "outputs": [
    {
     "data": {
      "text/plain": [
       "4.0"
      ]
     },
     "execution_count": 13,
     "metadata": {},
     "output_type": "execute_result"
    }
   ],
   "source": [
    "Area\n"
   ]
  },
  {
   "cell_type": "code",
   "execution_count": 14,
   "id": "c5fe1cf6-1225-4fb9-a804-d285381c40c1",
   "metadata": {},
   "outputs": [
    {
     "name": "stdin",
     "output_type": "stream",
     "text": [
      " 37\n"
     ]
    }
   ],
   "source": [
    "'''3. Write a Python program that converts temperatures from Celsius to\n",
    "Fahrenheit. Take the temperature in Celsius as input, store it in a variable,\n",
    "convert it to Fahrenheit, and display the result.'''\n",
    "celsius=int(input())\n"
   ]
  },
  {
   "cell_type": "code",
   "execution_count": 15,
   "id": "705d413e-da2f-45fb-bc15-2aa620d333d9",
   "metadata": {},
   "outputs": [],
   "source": [
    "Fahrenheit=celsius*1.8+32"
   ]
  },
  {
   "cell_type": "code",
   "execution_count": 16,
   "id": "dcedb709-3cc5-4a69-9626-373a99b52f55",
   "metadata": {},
   "outputs": [
    {
     "data": {
      "text/plain": [
       "98.60000000000001"
      ]
     },
     "execution_count": 16,
     "metadata": {},
     "output_type": "execute_result"
    }
   ],
   "source": [
    "Fahrenheit\n"
   ]
  },
  {
   "cell_type": "code",
   "execution_count": 17,
   "id": "bffde789-b60a-41fa-b75e-c4430c64c48d",
   "metadata": {},
   "outputs": [
    {
     "data": {
      "text/plain": [
       "'Topic 2 - String based Questions'"
      ]
     },
     "execution_count": 17,
     "metadata": {},
     "output_type": "execute_result"
    }
   ],
   "source": [
    "'''Topic 2 - String based Questions'''\n",
    "\n"
   ]
  },
  {
   "cell_type": "code",
   "execution_count": 18,
   "id": "7d90c632-9ca4-498d-b21f-b97c60e45e95",
   "metadata": {},
   "outputs": [
    {
     "name": "stdin",
     "output_type": "stream",
     "text": [
      " Ansul\n"
     ]
    }
   ],
   "source": [
    "'''1. Write a Python program that takes a string as input and prints the length of\n",
    "the string.'''\n",
    "s=input()"
   ]
  },
  {
   "cell_type": "code",
   "execution_count": 19,
   "id": "0f9d72d9-e7fb-4539-8dee-8ae97649ec22",
   "metadata": {},
   "outputs": [
    {
     "name": "stdout",
     "output_type": "stream",
     "text": [
      "5\n"
     ]
    }
   ],
   "source": [
    "print(len(s))"
   ]
  },
  {
   "cell_type": "code",
   "execution_count": 20,
   "id": "bda1cac8-a0ae-4b3e-8258-e9103638d441",
   "metadata": {},
   "outputs": [
    {
     "data": {
      "text/plain": [
       "'2. Create a program that takes a sentence from the user and counts the number\\nof vowels (a, e, i, o, u) in the string.'"
      ]
     },
     "execution_count": 20,
     "metadata": {},
     "output_type": "execute_result"
    }
   ],
   "source": [
    "'''2. Create a program that takes a sentence from the user and counts the number\n",
    "of vowels (a, e, i, o, u) in the string.'''"
   ]
  },
  {
   "cell_type": "code",
   "execution_count": 21,
   "id": "6c7b74da-3084-4ae6-abf0-b0fac6bbcf8f",
   "metadata": {},
   "outputs": [
    {
     "name": "stdin",
     "output_type": "stream",
     "text": [
      " Hello World\n"
     ]
    }
   ],
   "source": [
    "s1=input()"
   ]
  },
  {
   "cell_type": "code",
   "execution_count": 26,
   "id": "ce84118a-1021-48e0-97b4-0dd45a7c425b",
   "metadata": {},
   "outputs": [
    {
     "name": "stdout",
     "output_type": "stream",
     "text": [
      "3\n"
     ]
    }
   ],
   "source": [
    "vowels = \"aeiouAEIOU\"\n",
    "count = sum(s1.count(vowel) for vowel in vowels)\n",
    "print(count)"
   ]
  },
  {
   "cell_type": "code",
   "execution_count": 27,
   "id": "e6a396f5-dbf1-4b0b-b090-ffdf81ae21f0",
   "metadata": {},
   "outputs": [
    {
     "data": {
      "text/plain": [
       "'q.3 Given a string, reverse the order of characters using string slicing and print\\nthe reversed string.'"
      ]
     },
     "execution_count": 27,
     "metadata": {},
     "output_type": "execute_result"
    }
   ],
   "source": [
    "'''q.3 Given a string, reverse the order of characters using string slicing and print\n",
    "the reversed string.'''"
   ]
  },
  {
   "cell_type": "code",
   "execution_count": 29,
   "id": "d8f95cd8-73f8-4b5c-821a-ef509bf99701",
   "metadata": {},
   "outputs": [
    {
     "data": {
      "text/plain": [
       "'lusna'"
      ]
     },
     "execution_count": 29,
     "metadata": {},
     "output_type": "execute_result"
    }
   ],
   "source": [
    "str = \"ansul\"\n",
    "str[::-1]"
   ]
  },
  {
   "cell_type": "code",
   "execution_count": 30,
   "id": "2a4a2084-a73c-4d8a-8b78-b575216caeb4",
   "metadata": {},
   "outputs": [
    {
     "data": {
      "text/plain": [
       "'4. Write a program that takes a string as input and checks if it is a palindrome\\n(reads the same forwards and backwards).'"
      ]
     },
     "execution_count": 30,
     "metadata": {},
     "output_type": "execute_result"
    }
   ],
   "source": [
    "'''4. Write a program that takes a string as input and checks if it is a palindrome\n",
    "(reads the same forwards and backwards).'''"
   ]
  },
  {
   "cell_type": "code",
   "execution_count": 1,
   "id": "dc86865d-0ea5-4460-b6e0-7f09211b5958",
   "metadata": {},
   "outputs": [
    {
     "name": "stdin",
     "output_type": "stream",
     "text": [
      " hello\n"
     ]
    }
   ],
   "source": [
    "str=input()"
   ]
  },
  {
   "cell_type": "code",
   "execution_count": 15,
   "id": "c9b17479-d836-421f-ba21-e153c30a3655",
   "metadata": {},
   "outputs": [
    {
     "name": "stdout",
     "output_type": "stream",
     "text": [
      "no\n"
     ]
    }
   ],
   "source": [
    "#if s == srev it will print otheriwse it will not print\n",
    "s = \"subham\"\n",
    "srev = s[::-1]\n",
    "\n",
    "if s == srev:\n",
    "    print('yes')\n",
    "    \n"
   ]
  },
  {
   "cell_type": "code",
   "execution_count": 16,
   "id": "adb5e880-7ee4-49aa-851b-c47f5687f79d",
   "metadata": {},
   "outputs": [
    {
     "data": {
      "text/plain": [
       "'Q5. Create a program that takes a string as input and removes all the spaces from\\nit. Print the modified string without spaces.'"
      ]
     },
     "execution_count": 16,
     "metadata": {},
     "output_type": "execute_result"
    }
   ],
   "source": [
    "'''Q5. Create a program that takes a string as input and removes all the spaces from\n",
    "it. Print the modified string without spaces.'''"
   ]
  },
  {
   "cell_type": "code",
   "execution_count": 18,
   "id": "8f6e3c46-ca54-48a3-b44c-cea72b193244",
   "metadata": {},
   "outputs": [],
   "source": [
    "strng = \" g e e k \"\n",
    "new = strng.replace(\" \" , \"\")"
   ]
  },
  {
   "cell_type": "code",
   "execution_count": 19,
   "id": "d754c514-302c-4387-8c63-0c201a654680",
   "metadata": {},
   "outputs": [
    {
     "data": {
      "text/plain": [
       "'geek'"
      ]
     },
     "execution_count": 19,
     "metadata": {},
     "output_type": "execute_result"
    }
   ],
   "source": [
    "new"
   ]
  },
  {
   "cell_type": "code",
   "execution_count": null,
   "id": "c9f39598-0230-4f4b-b332-201c5d188326",
   "metadata": {},
   "outputs": [],
   "source": []
  }
 ],
 "metadata": {
  "kernelspec": {
   "display_name": "Python 3 (ipykernel)",
   "language": "python",
   "name": "python3"
  },
  "language_info": {
   "codemirror_mode": {
    "name": "ipython",
    "version": 3
   },
   "file_extension": ".py",
   "mimetype": "text/x-python",
   "name": "python",
   "nbconvert_exporter": "python",
   "pygments_lexer": "ipython3",
   "version": "3.10.8"
  }
 },
 "nbformat": 4,
 "nbformat_minor": 5
}
